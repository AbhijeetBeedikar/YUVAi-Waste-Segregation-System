{
  "cells": [
    {
      "cell_type": "markdown",
      "metadata": {
        "id": "view-in-github",
        "colab_type": "text"
      },
      "source": [
        "<a href=\"https://colab.research.google.com/github/AbhijeetBeedikar/YUVAi-Waste-Segregation-System/blob/main/Initial_Model.ipynb\" target=\"_parent\"><img src=\"https://colab.research.google.com/assets/colab-badge.svg\" alt=\"Open In Colab\"/></a>"
      ]
    },
    {
      "cell_type": "markdown",
      "metadata": {
        "id": "BUGDLxOuTntl"
      },
      "source": [
        "# RUNTIME: AROUND 30 MINS\n",
        "\n",
        "### 50% accuracy with annotated 12 class data version (1)\n",
        "\n",
        "### 60-70% accuracy with 12 class data initial version"
      ]
    },
    {
      "cell_type": "code",
      "execution_count": null,
      "metadata": {
        "id": "R9DvBmMaLX-X"
      },
      "outputs": [],
      "source": [
        "import os\n",
        "import math\n",
        "import numpy as np\n",
        "from keras.applications import DenseNet121\n",
        "import matplotlib.pyplot as plt\n",
        "from keras import models\n",
        "from keras import layers\n",
        "from keras import optimizers\n",
        "from keras.preprocessing.image import ImageDataGenerator\n",
        "from keras.callbacks import LearningRateScheduler\n",
        "from sklearn.metrics import confusion_matrix"
      ]
    },
    {
      "cell_type": "code",
      "execution_count": null,
      "metadata": {
        "id": "nGszqmszLuvs"
      },
      "outputs": [],
      "source": [
        "batch_size = 128\n",
        "dim = 224\n",
        "epochs_1 = 20\n",
        "epochs_2 = 20\n",
        "initial_learning_rate = 1e-3\n",
        "dropEvery = 4\n",
        "drop_rate = 0.5\n",
        "save_model_name = 'garbage_classifier.h5'"
      ]
    },
    {
      "cell_type": "code",
      "execution_count": null,
      "metadata": {
        "id": "hcBk6IHML6ku"
      },
      "outputs": [],
      "source": [
        "# Constants & functions\n",
        "def count_img(dir):\n",
        "    nb = 0\n",
        "    for subdirectory in os.listdir(dir):\n",
        "        nb += len(os.listdir(os.path.join(dir, subdirectory)))\n",
        "    return nb\n",
        "\n",
        "def plot_cm(labels, predictions, categories):\n",
        "    predictions = np.argmax(predictions, axis=1)\n",
        "    cm = confusion_matrix(labels, predictions)\n",
        "    make_confusion_matrix(cm, percent=False, categories=categories)\n",
        "\n",
        "def lr_step_decay(epoch, lr, d=drop_rate, e=dropEvery):\n",
        "    drop_rate = d\n",
        "    epochs_drop = e\n",
        "    return initial_learning_rate * math.pow(drop_rate, math.floor(epoch/epochs_drop))\n"
      ]
    },
    {
      "cell_type": "code",
      "execution_count": null,
      "metadata": {
        "id": "xwEwCr7tQ0gm"
      },
      "outputs": [],
      "source": [
        "main_dir = '/content/drive/MyDrive/12 groups garbage classification data - cleaned/garbage_classification/'\n",
        "class_mode = 'categorical'\n",
        "classes = os.listdir('/content/drive/MyDrive/12 groups garbage classification data - cleaned/garbage_classification/test')\n",
        "train_dir = os.path.join(main_dir, 'train(1)')\n",
        "validation_dir = os.path.join(main_dir, 'valid(1)')\n",
        "test_dir = os.path.join(main_dir, 'test(1)')\n",
        "steps_per_epoch = len(os.listdir(train_dir)) // batch_size+1\n",
        "validation_steps = len(os.listdir(validation_dir)) // batch_size+1\n",
        "test_steps = len(os.listdir(test_dir)) // batch_size+1"
      ]
    },
    {
      "cell_type": "code",
      "execution_count": null,
      "metadata": {
        "colab": {
          "base_uri": "https://localhost:8080/"
        },
        "id": "mo0y77wKxsy1",
        "outputId": "0271d62d-c82b-4987-bbd7-3c5a2b11fec7"
      },
      "outputs": [
        {
          "data": {
            "text/plain": [
              "4262"
            ]
          },
          "execution_count": 5,
          "metadata": {},
          "output_type": "execute_result"
        }
      ],
      "source": [
        "import os\n",
        "os.listdir('/content/drive/MyDrive/12 groups garbage classification data - cleaned/garbage_classification/train/clothes').index('train - clothes5166.jpg')"
      ]
    },
    {
      "cell_type": "code",
      "execution_count": null,
      "metadata": {
        "colab": {
          "base_uri": "https://localhost:8080/"
        },
        "id": "UGGr-KMOSMsr",
        "outputId": "50276e63-788a-44e1-9107-5a6ade7fa431"
      },
      "outputs": [
        {
          "name": "stdout",
          "output_type": "stream",
          "text": [
            "Found 12095 images belonging to 10 classes.\n",
            "Found 1535 images belonging to 10 classes.\n",
            "Found 1492 images belonging to 10 classes.\n"
          ]
        }
      ],
      "source": [
        "train_datagen = ImageDataGenerator(rescale=1./255)\n",
        "test_datagen = ImageDataGenerator(rescale=1./255)\n",
        "train_generator = train_datagen.flow_from_directory( #make seperate folders based on classes in train,test and valid folders and classify the pictures in these folders accordingly. split tensorflow version of roboflow data into seperate images based on annotations, classify into folders then apply the following traning method\n",
        "    train_dir,\n",
        "    target_size=(dim, dim),\n",
        "    batch_size=batch_size,\n",
        "    class_mode=class_mode,\n",
        "    classes=classes)\n",
        "test_generator = test_datagen.flow_from_directory(\n",
        "    test_dir,\n",
        "    target_size=(dim, dim),\n",
        "    batch_size=batch_size,\n",
        "    class_mode=class_mode,\n",
        "    classes=classes,\n",
        "    shuffle=False)\n",
        "validation_generator = test_datagen.flow_from_directory(\n",
        "    validation_dir,\n",
        "    target_size=(dim, dim),\n",
        "    batch_size=batch_size,\n",
        "    class_mode=class_mode,\n",
        "    classes=classes)"
      ]
    },
    {
      "cell_type": "code",
      "execution_count": null,
      "metadata": {
        "colab": {
          "base_uri": "https://localhost:8080/"
        },
        "id": "-f68RtGysoCb",
        "outputId": "e0720ebb-4113-457d-cee6-05b284d85fa7"
      },
      "outputs": [
        {
          "name": "stdout",
          "output_type": "stream",
          "text": [
            "Downloading data from https://storage.googleapis.com/tensorflow/keras-applications/densenet/densenet121_weights_tf_dim_ordering_tf_kernels_notop.h5\n",
            "29084464/29084464 [==============================] - 0s 0us/step\n"
          ]
        },
        {
          "name": "stderr",
          "output_type": "stream",
          "text": [
            "/usr/local/lib/python3.10/dist-packages/keras/optimizers/legacy/adam.py:117: UserWarning: The `lr` argument is deprecated, use `learning_rate` instead.\n",
            "  super().__init__(name, **kwargs)\n"
          ]
        },
        {
          "name": "stdout",
          "output_type": "stream",
          "text": [
            "\n",
            "Epoch 1: LearningRateScheduler setting learning rate to 0.001.\n",
            "Epoch 1/20\n",
            "1/1 [==============================] - 161s 161s/step - loss: 3.5621 - acc: 0.0469 - val_loss: 2.5602 - val_acc: 0.0547 - lr: 0.0010\n",
            "\n",
            "Epoch 2: LearningRateScheduler setting learning rate to 0.001.\n",
            "Epoch 2/20\n",
            "1/1 [==============================] - 142s 142s/step - loss: 3.4802 - acc: 0.1250 - val_loss: 2.4605 - val_acc: 0.1484 - lr: 0.0010\n",
            "\n",
            "Epoch 3: LearningRateScheduler setting learning rate to 0.001.\n",
            "Epoch 3/20\n",
            "1/1 [==============================] - 139s 139s/step - loss: 2.7093 - acc: 0.1094 - val_loss: 2.2194 - val_acc: 0.2500 - lr: 0.0010\n",
            "\n",
            "Epoch 4: LearningRateScheduler setting learning rate to 0.001.\n",
            "Epoch 4/20\n",
            "1/1 [==============================] - 99s 99s/step - loss: 2.4562 - acc: 0.2266 - val_loss: 2.3619 - val_acc: 0.2344 - lr: 0.0010\n",
            "\n",
            "Epoch 5: LearningRateScheduler setting learning rate to 0.0005.\n",
            "Epoch 5/20\n",
            "1/1 [==============================] - 104s 104s/step - loss: 2.8539 - acc: 0.1875 - val_loss: 2.1004 - val_acc: 0.2422 - lr: 5.0000e-04\n",
            "\n",
            "Epoch 6: LearningRateScheduler setting learning rate to 0.0005.\n",
            "Epoch 6/20\n",
            "1/1 [==============================] - 95s 95s/step - loss: 2.5259 - acc: 0.1953 - val_loss: 2.0052 - val_acc: 0.2578 - lr: 5.0000e-04\n",
            "\n",
            "Epoch 7: LearningRateScheduler setting learning rate to 0.0005.\n",
            "Epoch 7/20\n",
            "1/1 [==============================] - 97s 97s/step - loss: 2.4736 - acc: 0.2031 - val_loss: 2.2285 - val_acc: 0.2578 - lr: 5.0000e-04\n",
            "\n",
            "Epoch 8: LearningRateScheduler setting learning rate to 0.0005.\n",
            "Epoch 8/20\n",
            "1/1 [==============================] - 92s 92s/step - loss: 2.3260 - acc: 0.3359 - val_loss: 1.9771 - val_acc: 0.2109 - lr: 5.0000e-04\n",
            "\n",
            "Epoch 9: LearningRateScheduler setting learning rate to 0.00025.\n",
            "Epoch 9/20\n",
            "1/1 [==============================] - 94s 94s/step - loss: 2.3623 - acc: 0.2500 - val_loss: 1.9346 - val_acc: 0.3203 - lr: 2.5000e-04\n",
            "\n",
            "Epoch 10: LearningRateScheduler setting learning rate to 0.00025.\n",
            "Epoch 10/20\n",
            "1/1 [==============================] - 100s 100s/step - loss: 2.5526 - acc: 0.2109 - val_loss: 1.9714 - val_acc: 0.3125 - lr: 2.5000e-04\n",
            "\n",
            "Epoch 11: LearningRateScheduler setting learning rate to 0.00025.\n",
            "Epoch 11/20\n",
            "1/1 [==============================] - 92s 92s/step - loss: 2.3961 - acc: 0.2656 - val_loss: 1.9269 - val_acc: 0.3359 - lr: 2.5000e-04\n",
            "\n",
            "Epoch 12: LearningRateScheduler setting learning rate to 0.00025.\n",
            "Epoch 12/20\n",
            "1/1 [==============================] - 93s 93s/step - loss: 2.4443 - acc: 0.2031 - val_loss: 1.9789 - val_acc: 0.2969 - lr: 2.5000e-04\n",
            "\n",
            "Epoch 13: LearningRateScheduler setting learning rate to 0.000125.\n",
            "Epoch 13/20\n",
            "1/1 [==============================] - 79s 79s/step - loss: 2.5111 - acc: 0.2422 - val_loss: 2.0570 - val_acc: 0.2891 - lr: 1.2500e-04\n",
            "\n",
            "Epoch 14: LearningRateScheduler setting learning rate to 0.000125.\n",
            "Epoch 14/20\n",
            "1/1 [==============================] - 92s 92s/step - loss: 2.3518 - acc: 0.2109 - val_loss: 2.0141 - val_acc: 0.3438 - lr: 1.2500e-04\n",
            "\n",
            "Epoch 15: LearningRateScheduler setting learning rate to 0.000125.\n",
            "Epoch 15/20\n",
            "1/1 [==============================] - 88s 88s/step - loss: 2.3518 - acc: 0.2500 - val_loss: 2.0356 - val_acc: 0.2969 - lr: 1.2500e-04\n",
            "\n",
            "Epoch 16: LearningRateScheduler setting learning rate to 0.000125.\n",
            "Epoch 16/20\n",
            "1/1 [==============================] - 82s 82s/step - loss: 2.2172 - acc: 0.2500 - val_loss: 1.9621 - val_acc: 0.3516 - lr: 1.2500e-04\n",
            "\n",
            "Epoch 17: LearningRateScheduler setting learning rate to 6.25e-05.\n",
            "Epoch 17/20\n",
            "1/1 [==============================] - 86s 86s/step - loss: 2.4142 - acc: 0.3750 - val_loss: 2.0678 - val_acc: 0.2734 - lr: 6.2500e-05\n",
            "\n",
            "Epoch 18: LearningRateScheduler setting learning rate to 6.25e-05.\n",
            "Epoch 18/20\n",
            "1/1 [==============================] - 88s 88s/step - loss: 2.3499 - acc: 0.2578 - val_loss: 1.7884 - val_acc: 0.3672 - lr: 6.2500e-05\n",
            "\n",
            "Epoch 19: LearningRateScheduler setting learning rate to 6.25e-05.\n",
            "Epoch 19/20\n",
            "1/1 [==============================] - 75s 75s/step - loss: 2.2307 - acc: 0.3047 - val_loss: 1.9511 - val_acc: 0.3750 - lr: 6.2500e-05\n",
            "\n",
            "Epoch 20: LearningRateScheduler setting learning rate to 6.25e-05.\n",
            "Epoch 20/20\n",
            "1/1 [==============================] - 75s 75s/step - loss: 2.3243 - acc: 0.2891 - val_loss: 1.9269 - val_acc: 0.3828 - lr: 6.2500e-05\n"
          ]
        }
      ],
      "source": [
        "conv_base = DenseNet121(weights='imagenet', include_top=False, input_shape=(dim, dim, 3))\n",
        "conv_base.trainable = False\n",
        "model = models.Sequential()\n",
        "model.add(conv_base)\n",
        "model.add(layers.GlobalAveragePooling2D(input_shape=(4, 4, 1024)))\n",
        "model.add(layers.Dropout(0.5))\n",
        "model.add(layers.Dense(len(classes), activation='softmax'))\n",
        "\n",
        "model.compile(optimizer=optimizers.Adam(lr=initial_learning_rate), loss='categorical_crossentropy', metrics=['acc'])\n",
        "history = model.fit(train_generator, steps_per_epoch=steps_per_epoch, epochs=epochs_1, batch_size=batch_size,\n",
        "                    validation_data=validation_generator, validation_steps=validation_steps, callbacks=[LearningRateScheduler(lr_step_decay, verbose=1)])"
      ]
    },
    {
      "cell_type": "code",
      "execution_count": null,
      "metadata": {
        "colab": {
          "background_save": true,
          "base_uri": "https://localhost:8080/"
        },
        "id": "o5Ufpk8TFM8A",
        "outputId": "95d6a785-2a36-4a19-9b31-36cc19e6cfd8"
      },
      "outputs": [
        {
          "name": "stdout",
          "output_type": "stream",
          "text": [
            "\n",
            "Epoch 1: LearningRateScheduler setting learning rate to 0.001.\n",
            "Epoch 1/20\n",
            "1/1 [==============================] - 85s 85s/step - loss: 2.4929 - acc: 0.2578 - val_loss: 1.6271 - val_acc: 0.4219 - lr: 0.0010\n",
            "\n",
            "Epoch 2: LearningRateScheduler setting learning rate to 0.001.\n",
            "Epoch 2/20\n",
            "1/1 [==============================] - 86s 86s/step - loss: 2.4410 - acc: 0.2188 - val_loss: 1.6082 - val_acc: 0.4922 - lr: 0.0010\n",
            "\n",
            "Epoch 3: LearningRateScheduler setting learning rate to 0.001.\n",
            "Epoch 3/20\n",
            "1/1 [==============================] - 87s 87s/step - loss: 1.9718 - acc: 0.3750 - val_loss: 1.4637 - val_acc: 0.5547 - lr: 0.0010\n",
            "\n",
            "Epoch 4: LearningRateScheduler setting learning rate to 0.001.\n",
            "Epoch 4/20\n",
            "1/1 [==============================] - 77s 77s/step - loss: 2.0065 - acc: 0.3906 - val_loss: 1.4867 - val_acc: 0.5312 - lr: 0.0010\n",
            "\n",
            "Epoch 5: LearningRateScheduler setting learning rate to 0.0005.\n",
            "Epoch 5/20\n",
            "1/1 [==============================] - 85s 85s/step - loss: 1.8052 - acc: 0.3906 - val_loss: 1.3427 - val_acc: 0.5859 - lr: 5.0000e-04\n",
            "\n",
            "Epoch 6: LearningRateScheduler setting learning rate to 0.0005.\n",
            "Epoch 6/20\n",
            "1/1 [==============================] - 80s 80s/step - loss: 1.5617 - acc: 0.5312 - val_loss: 1.2314 - val_acc: 0.6094 - lr: 5.0000e-04\n",
            "\n",
            "Epoch 7: LearningRateScheduler setting learning rate to 0.0005.\n",
            "Epoch 7/20\n",
            "1/1 [==============================] - 69s 69s/step - loss: 1.6378 - acc: 0.4688 - val_loss: 1.2469 - val_acc: 0.6094 - lr: 5.0000e-04\n",
            "\n",
            "Epoch 8: LearningRateScheduler setting learning rate to 0.0005.\n",
            "Epoch 8/20\n",
            "1/1 [==============================] - 68s 68s/step - loss: 1.5705 - acc: 0.4922 - val_loss: 1.1477 - val_acc: 0.6406 - lr: 5.0000e-04\n",
            "\n",
            "Epoch 9: LearningRateScheduler setting learning rate to 0.00025.\n",
            "Epoch 9/20\n",
            "1/1 [==============================] - 67s 67s/step - loss: 1.5010 - acc: 0.5938 - val_loss: 1.2207 - val_acc: 0.6172 - lr: 2.5000e-04\n",
            "\n",
            "Epoch 10: LearningRateScheduler setting learning rate to 0.00025.\n",
            "Epoch 10/20\n",
            "1/1 [==============================] - 87s 87s/step - loss: 1.4806 - acc: 0.5078 - val_loss: 1.1168 - val_acc: 0.6250 - lr: 2.5000e-04\n",
            "\n",
            "Epoch 11: LearningRateScheduler setting learning rate to 0.00025.\n",
            "Epoch 11/20\n",
            "1/1 [==============================] - 86s 86s/step - loss: 1.3207 - acc: 0.5391 - val_loss: 1.1922 - val_acc: 0.5859 - lr: 2.5000e-04\n",
            "\n",
            "Epoch 12: LearningRateScheduler setting learning rate to 0.00025.\n",
            "Epoch 12/20\n",
            "1/1 [==============================] - 68s 68s/step - loss: 1.5616 - acc: 0.5312 - val_loss: 1.2530 - val_acc: 0.6484 - lr: 2.5000e-04\n",
            "\n",
            "Epoch 13: LearningRateScheduler setting learning rate to 0.000125.\n",
            "Epoch 13/20\n",
            "1/1 [==============================] - 66s 66s/step - loss: 1.4847 - acc: 0.5469 - val_loss: 1.0716 - val_acc: 0.6562 - lr: 1.2500e-04\n",
            "\n",
            "Epoch 14: LearningRateScheduler setting learning rate to 0.000125.\n",
            "Epoch 14/20\n",
            "1/1 [==============================] - 74s 74s/step - loss: 1.4661 - acc: 0.5156 - val_loss: 1.0965 - val_acc: 0.6641 - lr: 1.2500e-04\n",
            "\n",
            "Epoch 15: LearningRateScheduler setting learning rate to 0.000125.\n",
            "Epoch 15/20\n",
            "1/1 [==============================] - 69s 69s/step - loss: 1.6697 - acc: 0.4766 - val_loss: 1.1509 - val_acc: 0.6562 - lr: 1.2500e-04\n",
            "\n",
            "Epoch 16: LearningRateScheduler setting learning rate to 0.000125.\n",
            "Epoch 16/20\n",
            "1/1 [==============================] - 82s 82s/step - loss: 1.7033 - acc: 0.5859 - val_loss: 1.1404 - val_acc: 0.6406 - lr: 1.2500e-04\n",
            "\n",
            "Epoch 17: LearningRateScheduler setting learning rate to 6.25e-05.\n",
            "Epoch 17/20\n",
            "1/1 [==============================] - 84s 84s/step - loss: 1.4604 - acc: 0.5156 - val_loss: 1.2268 - val_acc: 0.6328 - lr: 6.2500e-05\n",
            "\n",
            "Epoch 18: LearningRateScheduler setting learning rate to 6.25e-05.\n",
            "Epoch 18/20\n",
            "1/1 [==============================] - 85s 85s/step - loss: 1.2465 - acc: 0.5938 - val_loss: 1.0130 - val_acc: 0.7266 - lr: 6.2500e-05\n",
            "\n",
            "Epoch 19: LearningRateScheduler setting learning rate to 6.25e-05.\n",
            "Epoch 19/20\n",
            "1/1 [==============================] - 83s 83s/step - loss: 1.2468 - acc: 0.6250 - val_loss: 1.3259 - val_acc: 0.6172 - lr: 6.2500e-05\n",
            "\n",
            "Epoch 20: LearningRateScheduler setting learning rate to 6.25e-05.\n",
            "Epoch 20/20\n",
            "1/1 [==============================] - 78s 78s/step - loss: 1.2998 - acc: 0.5625 - val_loss: 1.0452 - val_acc: 0.7031 - lr: 6.2500e-05\n"
          ]
        }
      ],
      "source": [
        "# Fine-tuning : unfreezing some of the top layers in the base of the pretrained convnet\n",
        "conv_base.trainable = True\n",
        "set_trainable = False\n",
        "for layer in conv_base.layers:\n",
        "    if 'conv5_block16' in layer.name:\n",
        "        set_trainable = True\n",
        "    if set_trainable:\n",
        "        layer.trainable = True\n",
        "    else:\n",
        "        layer.trainable = False\n",
        "\n",
        "model.compile(optimizer=optimizers.Adam(lr=initial_learning_rate), loss='categorical_crossentropy', metrics=['acc'])\n",
        "history = model.fit(train_generator, steps_per_epoch=steps_per_epoch, epochs=epochs_2, batch_size=batch_size,\n",
        "                    validation_data=validation_generator, validation_steps=validation_steps, callbacks=[LearningRateScheduler(lr_step_decay, verbose=1)])\n",
        "os.chdir('/content/drive/MyDrive/12 groups garbage classification data - cleaned')\n",
        "model.save('50% classification model.h5')"
      ]
    },
    {
      "cell_type": "code",
      "execution_count": null,
      "metadata": {
        "id": "FkcL-9c1TRM3"
      },
      "outputs": [],
      "source": [
        "test_loss, test_acc = model.evaluate(test_generator, steps=test_steps)\n",
        "print('test accuracy : ', test_acc)"
      ]
    },
    {
      "cell_type": "code",
      "execution_count": null,
      "metadata": {
        "colab": {
          "base_uri": "https://localhost:8080/",
          "height": 395
        },
        "id": "l6dLOwcD4JBJ",
        "outputId": "6e3dac63-4e04-4694-a672-a9e7d611d02a"
      },
      "outputs": [
        {
          "name": "stdout",
          "output_type": "stream",
          "text": [
            "1/1 [==============================] - 32s 32s/step\n"
          ]
        },
        {
          "ename": "ValueError",
          "evalue": "ignored",
          "output_type": "error",
          "traceback": [
            "\u001b[0;31m---------------------------------------------------------------------------\u001b[0m",
            "\u001b[0;31mValueError\u001b[0m                                Traceback (most recent call last)",
            "\u001b[0;32m<ipython-input-10-7c9cec4ad832>\u001b[0m in \u001b[0;36m<cell line: 3>\u001b[0;34m()\u001b[0m\n\u001b[1;32m      1\u001b[0m \u001b[0mtest_predictions\u001b[0m \u001b[0;34m=\u001b[0m \u001b[0mmodel\u001b[0m\u001b[0;34m.\u001b[0m\u001b[0mpredict\u001b[0m\u001b[0;34m(\u001b[0m\u001b[0mtest_generator\u001b[0m\u001b[0;34m,\u001b[0m \u001b[0msteps\u001b[0m\u001b[0;34m=\u001b[0m\u001b[0mtest_steps\u001b[0m\u001b[0;34m)\u001b[0m\u001b[0;34m\u001b[0m\u001b[0;34m\u001b[0m\u001b[0m\n\u001b[1;32m      2\u001b[0m \u001b[0mtest_labels\u001b[0m \u001b[0;34m=\u001b[0m \u001b[0mtest_generator\u001b[0m\u001b[0;34m.\u001b[0m\u001b[0mclasses\u001b[0m\u001b[0;34m\u001b[0m\u001b[0;34m\u001b[0m\u001b[0m\n\u001b[0;32m----> 3\u001b[0;31m \u001b[0mplot_cm\u001b[0m\u001b[0;34m(\u001b[0m\u001b[0mtest_labels\u001b[0m\u001b[0;34m,\u001b[0m \u001b[0mtest_predictions\u001b[0m\u001b[0;34m,\u001b[0m \u001b[0mclasses\u001b[0m\u001b[0;34m)\u001b[0m\u001b[0;34m\u001b[0m\u001b[0;34m\u001b[0m\u001b[0m\n\u001b[0m\u001b[1;32m      4\u001b[0m \u001b[0mplt\u001b[0m\u001b[0;34m.\u001b[0m\u001b[0mshow\u001b[0m\u001b[0;34m(\u001b[0m\u001b[0;34m)\u001b[0m\u001b[0;34m\u001b[0m\u001b[0;34m\u001b[0m\u001b[0m\n",
            "\u001b[0;32m<ipython-input-3-1baa85dcc32e>\u001b[0m in \u001b[0;36mplot_cm\u001b[0;34m(labels, predictions, categories)\u001b[0m\n\u001b[1;32m      8\u001b[0m \u001b[0;32mdef\u001b[0m \u001b[0mplot_cm\u001b[0m\u001b[0;34m(\u001b[0m\u001b[0mlabels\u001b[0m\u001b[0;34m,\u001b[0m \u001b[0mpredictions\u001b[0m\u001b[0;34m,\u001b[0m \u001b[0mcategories\u001b[0m\u001b[0;34m)\u001b[0m\u001b[0;34m:\u001b[0m\u001b[0;34m\u001b[0m\u001b[0;34m\u001b[0m\u001b[0m\n\u001b[1;32m      9\u001b[0m     \u001b[0mpredictions\u001b[0m \u001b[0;34m=\u001b[0m \u001b[0mnp\u001b[0m\u001b[0;34m.\u001b[0m\u001b[0margmax\u001b[0m\u001b[0;34m(\u001b[0m\u001b[0mpredictions\u001b[0m\u001b[0;34m,\u001b[0m \u001b[0maxis\u001b[0m\u001b[0;34m=\u001b[0m\u001b[0;36m1\u001b[0m\u001b[0;34m)\u001b[0m\u001b[0;34m\u001b[0m\u001b[0;34m\u001b[0m\u001b[0m\n\u001b[0;32m---> 10\u001b[0;31m     \u001b[0mcm\u001b[0m \u001b[0;34m=\u001b[0m \u001b[0mconfusion_matrix\u001b[0m\u001b[0;34m(\u001b[0m\u001b[0mlabels\u001b[0m\u001b[0;34m,\u001b[0m \u001b[0mpredictions\u001b[0m\u001b[0;34m)\u001b[0m\u001b[0;34m\u001b[0m\u001b[0;34m\u001b[0m\u001b[0m\n\u001b[0m\u001b[1;32m     11\u001b[0m     \u001b[0mmake_confusion_matrix\u001b[0m\u001b[0;34m(\u001b[0m\u001b[0mcm\u001b[0m\u001b[0;34m,\u001b[0m \u001b[0mpercent\u001b[0m\u001b[0;34m=\u001b[0m\u001b[0;32mFalse\u001b[0m\u001b[0;34m,\u001b[0m \u001b[0mcategories\u001b[0m\u001b[0;34m=\u001b[0m\u001b[0mcategories\u001b[0m\u001b[0;34m)\u001b[0m\u001b[0;34m\u001b[0m\u001b[0;34m\u001b[0m\u001b[0m\n\u001b[1;32m     12\u001b[0m \u001b[0;34m\u001b[0m\u001b[0m\n",
            "\u001b[0;32m/usr/local/lib/python3.10/dist-packages/sklearn/metrics/_classification.py\u001b[0m in \u001b[0;36mconfusion_matrix\u001b[0;34m(y_true, y_pred, labels, sample_weight, normalize)\u001b[0m\n\u001b[1;32m    315\u001b[0m     \u001b[0;34m(\u001b[0m\u001b[0;36m0\u001b[0m\u001b[0;34m,\u001b[0m \u001b[0;36m2\u001b[0m\u001b[0;34m,\u001b[0m \u001b[0;36m1\u001b[0m\u001b[0;34m,\u001b[0m \u001b[0;36m1\u001b[0m\u001b[0;34m)\u001b[0m\u001b[0;34m\u001b[0m\u001b[0;34m\u001b[0m\u001b[0m\n\u001b[1;32m    316\u001b[0m     \"\"\"\n\u001b[0;32m--> 317\u001b[0;31m     \u001b[0my_type\u001b[0m\u001b[0;34m,\u001b[0m \u001b[0my_true\u001b[0m\u001b[0;34m,\u001b[0m \u001b[0my_pred\u001b[0m \u001b[0;34m=\u001b[0m \u001b[0m_check_targets\u001b[0m\u001b[0;34m(\u001b[0m\u001b[0my_true\u001b[0m\u001b[0;34m,\u001b[0m \u001b[0my_pred\u001b[0m\u001b[0;34m)\u001b[0m\u001b[0;34m\u001b[0m\u001b[0;34m\u001b[0m\u001b[0m\n\u001b[0m\u001b[1;32m    318\u001b[0m     \u001b[0;32mif\u001b[0m \u001b[0my_type\u001b[0m \u001b[0;32mnot\u001b[0m \u001b[0;32min\u001b[0m \u001b[0;34m(\u001b[0m\u001b[0;34m\"binary\"\u001b[0m\u001b[0;34m,\u001b[0m \u001b[0;34m\"multiclass\"\u001b[0m\u001b[0;34m)\u001b[0m\u001b[0;34m:\u001b[0m\u001b[0;34m\u001b[0m\u001b[0;34m\u001b[0m\u001b[0m\n\u001b[1;32m    319\u001b[0m         \u001b[0;32mraise\u001b[0m \u001b[0mValueError\u001b[0m\u001b[0;34m(\u001b[0m\u001b[0;34m\"%s is not supported\"\u001b[0m \u001b[0;34m%\u001b[0m \u001b[0my_type\u001b[0m\u001b[0;34m)\u001b[0m\u001b[0;34m\u001b[0m\u001b[0;34m\u001b[0m\u001b[0m\n",
            "\u001b[0;32m/usr/local/lib/python3.10/dist-packages/sklearn/metrics/_classification.py\u001b[0m in \u001b[0;36m_check_targets\u001b[0;34m(y_true, y_pred)\u001b[0m\n\u001b[1;32m     84\u001b[0m     \u001b[0my_pred\u001b[0m \u001b[0;34m:\u001b[0m \u001b[0marray\u001b[0m \u001b[0;32mor\u001b[0m \u001b[0mindicator\u001b[0m \u001b[0mmatrix\u001b[0m\u001b[0;34m\u001b[0m\u001b[0;34m\u001b[0m\u001b[0m\n\u001b[1;32m     85\u001b[0m     \"\"\"\n\u001b[0;32m---> 86\u001b[0;31m     \u001b[0mcheck_consistent_length\u001b[0m\u001b[0;34m(\u001b[0m\u001b[0my_true\u001b[0m\u001b[0;34m,\u001b[0m \u001b[0my_pred\u001b[0m\u001b[0;34m)\u001b[0m\u001b[0;34m\u001b[0m\u001b[0;34m\u001b[0m\u001b[0m\n\u001b[0m\u001b[1;32m     87\u001b[0m     \u001b[0mtype_true\u001b[0m \u001b[0;34m=\u001b[0m \u001b[0mtype_of_target\u001b[0m\u001b[0;34m(\u001b[0m\u001b[0my_true\u001b[0m\u001b[0;34m,\u001b[0m \u001b[0minput_name\u001b[0m\u001b[0;34m=\u001b[0m\u001b[0;34m\"y_true\"\u001b[0m\u001b[0;34m)\u001b[0m\u001b[0;34m\u001b[0m\u001b[0;34m\u001b[0m\u001b[0m\n\u001b[1;32m     88\u001b[0m     \u001b[0mtype_pred\u001b[0m \u001b[0;34m=\u001b[0m \u001b[0mtype_of_target\u001b[0m\u001b[0;34m(\u001b[0m\u001b[0my_pred\u001b[0m\u001b[0;34m,\u001b[0m \u001b[0minput_name\u001b[0m\u001b[0;34m=\u001b[0m\u001b[0;34m\"y_pred\"\u001b[0m\u001b[0;34m)\u001b[0m\u001b[0;34m\u001b[0m\u001b[0;34m\u001b[0m\u001b[0m\n",
            "\u001b[0;32m/usr/local/lib/python3.10/dist-packages/sklearn/utils/validation.py\u001b[0m in \u001b[0;36mcheck_consistent_length\u001b[0;34m(*arrays)\u001b[0m\n\u001b[1;32m    395\u001b[0m     \u001b[0muniques\u001b[0m \u001b[0;34m=\u001b[0m \u001b[0mnp\u001b[0m\u001b[0;34m.\u001b[0m\u001b[0munique\u001b[0m\u001b[0;34m(\u001b[0m\u001b[0mlengths\u001b[0m\u001b[0;34m)\u001b[0m\u001b[0;34m\u001b[0m\u001b[0;34m\u001b[0m\u001b[0m\n\u001b[1;32m    396\u001b[0m     \u001b[0;32mif\u001b[0m \u001b[0mlen\u001b[0m\u001b[0;34m(\u001b[0m\u001b[0muniques\u001b[0m\u001b[0;34m)\u001b[0m \u001b[0;34m>\u001b[0m \u001b[0;36m1\u001b[0m\u001b[0;34m:\u001b[0m\u001b[0;34m\u001b[0m\u001b[0;34m\u001b[0m\u001b[0m\n\u001b[0;32m--> 397\u001b[0;31m         raise ValueError(\n\u001b[0m\u001b[1;32m    398\u001b[0m             \u001b[0;34m\"Found input variables with inconsistent numbers of samples: %r\"\u001b[0m\u001b[0;34m\u001b[0m\u001b[0;34m\u001b[0m\u001b[0m\n\u001b[1;32m    399\u001b[0m             \u001b[0;34m%\u001b[0m \u001b[0;34m[\u001b[0m\u001b[0mint\u001b[0m\u001b[0;34m(\u001b[0m\u001b[0ml\u001b[0m\u001b[0;34m)\u001b[0m \u001b[0;32mfor\u001b[0m \u001b[0ml\u001b[0m \u001b[0;32min\u001b[0m \u001b[0mlengths\u001b[0m\u001b[0;34m]\u001b[0m\u001b[0;34m\u001b[0m\u001b[0;34m\u001b[0m\u001b[0m\n",
            "\u001b[0;31mValueError\u001b[0m: Found input variables with inconsistent numbers of samples: [425, 128]"
          ]
        }
      ],
      "source": [
        "test_predictions = model.predict(test_generator, steps=test_steps)\n",
        "test_labels = test_generator.classes\n",
        "plot_cm(test_labels, test_predictions, classes)\n",
        "plt.show()"
      ]
    },
    {
      "cell_type": "code",
      "execution_count": null,
      "metadata": {
        "colab": {
          "base_uri": "https://localhost:8080/",
          "height": 244
        },
        "id": "elKprEjs1yJ_",
        "outputId": "65cfde2e-9791-4ffa-f093-5296b9863129"
      },
      "outputs": [
        {
          "ename": "KeyboardInterrupt",
          "evalue": "ignored",
          "output_type": "error",
          "traceback": [
            "\u001b[0;31m---------------------------------------------------------------------------\u001b[0m",
            "\u001b[0;31mKeyboardInterrupt\u001b[0m                         Traceback (most recent call last)",
            "\u001b[0;32m<ipython-input-17-0f1e234c7935>\u001b[0m in \u001b[0;36m<cell line: 6>\u001b[0;34m()\u001b[0m\n\u001b[1;32m      9\u001b[0m   \u001b[0;32mfor\u001b[0m \u001b[0mb\u001b[0m \u001b[0;32min\u001b[0m \u001b[0mtrain\u001b[0m\u001b[0;34m:\u001b[0m\u001b[0;34m\u001b[0m\u001b[0;34m\u001b[0m\u001b[0m\n\u001b[1;32m     10\u001b[0m     \u001b[0mos\u001b[0m\u001b[0;34m.\u001b[0m\u001b[0mchdir\u001b[0m\u001b[0;34m(\u001b[0m\u001b[0;34m'/content/drive/MyDrive/12 groups garbage classification data - cleaned/garbage_classification/train/'\u001b[0m\u001b[0;34m+\u001b[0m\u001b[0ma\u001b[0m\u001b[0;34m)\u001b[0m\u001b[0;34m\u001b[0m\u001b[0;34m\u001b[0m\u001b[0m\n\u001b[0;32m---> 11\u001b[0;31m     \u001b[0mcv2\u001b[0m\u001b[0;34m.\u001b[0m\u001b[0mimwrite\u001b[0m\u001b[0;34m(\u001b[0m\u001b[0;34m'train - '\u001b[0m\u001b[0;34m+\u001b[0m\u001b[0mb\u001b[0m\u001b[0;34m,\u001b[0m\u001b[0mcv2\u001b[0m\u001b[0;34m.\u001b[0m\u001b[0mimread\u001b[0m\u001b[0;34m(\u001b[0m\u001b[0;34m'/content/drive/MyDrive/12 groups garbage classification data - cleaned/garbage_classification/'\u001b[0m\u001b[0;34m+\u001b[0m\u001b[0ma\u001b[0m\u001b[0;34m+\u001b[0m\u001b[0;34m'/'\u001b[0m\u001b[0;34m+\u001b[0m\u001b[0mb\u001b[0m\u001b[0;34m)\u001b[0m\u001b[0;34m)\u001b[0m\u001b[0;34m\u001b[0m\u001b[0;34m\u001b[0m\u001b[0m\n\u001b[0m\u001b[1;32m     12\u001b[0m   \u001b[0;32mfor\u001b[0m \u001b[0mb\u001b[0m \u001b[0;32min\u001b[0m \u001b[0mtest\u001b[0m\u001b[0;34m:\u001b[0m\u001b[0;34m\u001b[0m\u001b[0;34m\u001b[0m\u001b[0m\n\u001b[1;32m     13\u001b[0m     \u001b[0mos\u001b[0m\u001b[0;34m.\u001b[0m\u001b[0mchdir\u001b[0m\u001b[0;34m(\u001b[0m\u001b[0;34m'/content/drive/MyDrive/12 groups garbage classification data - cleaned/garbage_classification/test/'\u001b[0m\u001b[0;34m+\u001b[0m\u001b[0ma\u001b[0m\u001b[0;34m)\u001b[0m\u001b[0;34m\u001b[0m\u001b[0;34m\u001b[0m\u001b[0m\n",
            "\u001b[0;31mKeyboardInterrupt\u001b[0m: "
          ]
        }
      ],
      "source": [
        "import os\n",
        "import cv2\n",
        "from sklearn.model_selection import train_test_split\n",
        "os.chdir('/content/drive/MyDrive/12 groups garbage classification data - cleaned/garbage_classification')\n",
        "classes = ['biological','brown-glass','cardboard','clothes','green-glass','metal','paper','plastic','sanitary waste and toothbrushes','shoes','white-glass']\n",
        "for a in classes:\n",
        "  train,leftover = train_test_split(os.listdir('/content/drive/MyDrive/12 groups garbage classification data - cleaned/garbage_classification/'+a),train_size = 0.8)\n",
        "  test,valid = train_test_split(leftover,test_size = 0.5)\n",
        "  for b in train:\n",
        "    os.chdir('/content/drive/MyDrive/12 groups garbage classification data - cleaned/garbage_classification/train/'+a)\n",
        "    cv2.imwrite('train - '+b,cv2.imread('/content/drive/MyDrive/12 groups garbage classification data - cleaned/garbage_classification/'+a+'/'+b))\n",
        "  for b in test:\n",
        "    os.chdir('/content/drive/MyDrive/12 groups garbage classification data - cleaned/garbage_classification/test/'+a)\n",
        "    cv2.imwrite('test - '+b,cv2.imread('/content/drive/MyDrive/12 groups garbage classification data - cleaned/garbage_classification/'+a+'/'+b))\n",
        "  for b in valid:\n",
        "    os.chdir('/content/drive/MyDrive/12 groups garbage classification data - cleaned/garbage_classification/valid/'+a)\n",
        "    cv2.imwrite('valid - '+b,cv2.imread('/content/drive/MyDrive/12 groups garbage classification data - cleaned/garbage_classification/'+a+'/'+b))\n",
        "\n"
      ]
    },
    {
      "cell_type": "code",
      "execution_count": null,
      "metadata": {
        "colab": {
          "base_uri": "https://localhost:8080/"
        },
        "id": "3RCl8-l58inn",
        "outputId": "c59ad022-190d-475d-a57e-fd87c71d67c2"
      },
      "outputs": [
        {
          "name": "stdout",
          "output_type": "stream",
          "text": [
            "12192.jpg\n",
            "481\n",
            "1609\n"
          ]
        }
      ],
      "source": [
        "import os\n",
        "a = os.listdir('/content/drive/MyDrive/12 groups garbage classification data - cleaned/garbage_classification/train(1)/glass')\n",
        "a.sort()\n",
        "print(a[-1])\n",
        "print(os.listdir('/content/drive/MyDrive/12 groups garbage classification data - cleaned/garbage_classification/train/glass').index('train - white-glass72.jpg'))\n",
        "print(len(os.listdir('/content/drive/MyDrive/12 groups garbage classification data - cleaned/garbage_classification/train/glass')))"
      ]
    },
    {
      "cell_type": "code",
      "execution_count": null,
      "metadata": {
        "colab": {
          "base_uri": "https://localhost:8080/"
        },
        "id": "ElVl2BVe9ALT",
        "outputId": "d9f1ed85-7b2b-4f59-9d7e-db9344cb965c"
      },
      "outputs": [
        {
          "data": {
            "text/plain": [
              "3184"
            ]
          },
          "execution_count": 21,
          "metadata": {},
          "output_type": "execute_result"
        }
      ],
      "source": [
        "a = len(os.listdir('/content/drive/MyDrive/12 groups garbage classification data - cleaned/garbage_classification/train(1)/clothes'))\n",
        "a"
      ]
    },
    {
      "cell_type": "code",
      "execution_count": null,
      "metadata": {
        "colab": {
          "base_uri": "https://localhost:8080/"
        },
        "id": "BBffzQA52_PL",
        "outputId": "5fe1371c-2c72-47a8-9e99-44f263d0bf91"
      },
      "outputs": [
        {
          "name": "stdout",
          "output_type": "stream",
          "text": [
            "['battery609.jpg', 'battery237.jpg', 'battery12.jpg', 'battery555.jpg', 'battery114.jpg', 'battery155.jpg', 'battery111.jpg', 'battery388.jpg', 'battery354.jpg', 'battery281.jpg', 'battery148.jpg', 'battery190.jpg', 'battery143.jpg', 'battery552.jpg', 'battery607.jpg', 'battery468.jpg', 'battery351.jpg', 'battery18.jpg', 'battery339.jpg', 'battery213.jpg', 'battery511.jpg', 'battery467.jpg', 'battery577.jpg', 'battery271.jpg', 'battery266.jpg', 'battery37.jpg', 'battery553.jpg', 'battery320.jpg', 'battery273.jpg', 'battery465.jpg', 'battery356.jpg', 'battery502.jpg', 'battery261.jpg', 'battery422.jpg', 'battery248.jpg', 'battery115.jpg', 'battery445.jpg', 'battery374.jpg', 'battery602.jpg', 'battery542.jpg', 'battery130.jpg', 'battery461.jpg', 'battery51.jpg', 'battery181.jpg', 'battery102.jpg', 'battery503.jpg', 'battery41.jpg', 'battery383.jpg', 'battery407.jpg', 'battery16.jpg', 'battery147.jpg', 'battery564.jpg', 'battery554.jpg', 'battery215.jpg', 'battery456.jpg', 'battery562.jpg', 'battery268.jpg']\n",
            "['battery497.jpg', 'battery212.jpg', 'battery303.jpg', 'battery603.jpg', 'battery411.jpg', 'battery448.jpg', 'battery156.jpg', 'battery286.jpg', 'battery419.jpg', 'battery127.jpg', 'battery129.jpg', 'battery563.jpg', 'battery412.jpg', 'battery437.jpg', 'battery315.jpg', 'battery17.jpg', 'battery305.jpg', 'battery539.jpg', 'battery263.jpg', 'battery368.jpg', 'battery277.jpg', 'battery400.jpg', 'battery110.jpg', 'battery366.jpg', 'battery101.jpg', 'battery416.jpg', 'battery598.jpg', 'battery113.jpg', 'battery478.jpg', 'battery316.jpg', 'battery490.jpg', 'battery5.jpg', 'battery460.jpg', 'battery157.jpg', 'battery525.jpg', 'battery319.jpg', 'battery355.jpg', 'battery611.jpg', 'battery367.jpg', 'battery408.jpg', 'battery135.jpg', 'battery427.jpg', 'battery203.jpg', 'battery452.jpg', 'battery205.jpg', 'battery334.jpg', 'battery55.jpg', 'battery139.jpg', 'battery193.jpg', 'battery528.jpg', 'battery589.jpg', 'battery152.jpg', 'battery530.jpg', 'battery278.jpg', 'battery477.jpg', 'battery466.jpg', 'battery236.jpg', 'battery358.jpg', 'battery576.jpg', 'battery214.jpg', 'battery175.jpg', 'battery337.jpg', 'battery21.jpg', 'battery349.jpg', 'battery29.jpg', 'battery579.jpg', 'battery496.jpg', 'battery345.jpg', 'battery420.jpg', 'battery173.jpg', 'battery395.jpg', 'battery57.jpg', 'battery329.jpg', 'battery221.jpg', 'battery240.jpg', 'battery474.jpg', 'battery353.jpg', 'battery594.jpg', 'battery4.jpg', 'battery481.jpg', 'battery131.jpg', 'battery105.jpg', 'battery33.jpg', 'battery26.jpg', 'battery588.jpg', 'battery486.jpg', 'battery377.jpg', 'battery323.jpg', 'battery151.jpg', 'battery116.jpg', 'battery387.jpg', 'battery11.jpg', 'battery610.jpg', 'battery344.jpg', 'battery180.jpg', 'battery475.jpg', 'battery336.jpg', 'battery182.jpg', 'battery159.jpg', 'battery376.jpg', 'battery206.jpg', 'battery327.jpg', 'battery288.jpg', 'battery567.jpg', 'battery100.jpg', 'battery566.jpg', 'battery415.jpg', 'battery447.jpg', 'battery406.jpg', 'battery294.jpg', 'battery559.jpg', 'battery309.jpg', 'battery46.jpg', 'battery514.jpg', 'battery172.jpg', 'battery31.jpg', 'battery104.jpg', 'battery506.jpg', 'battery548.jpg', 'battery582.jpg', 'battery597.jpg', 'battery532.jpg', 'battery297.jpg', 'battery370.jpg', 'battery209.jpg', 'battery287.jpg', 'battery572.jpg', 'battery433.jpg', 'battery439.jpg', 'battery195.jpg', 'battery347.jpg', 'battery330.jpg', 'battery446.jpg', 'battery418.jpg', 'battery160.jpg', 'battery386.jpg', 'battery3.jpg', 'battery331.jpg', 'battery122.jpg', 'battery455.jpg', 'battery322.jpg', 'battery187.jpg', 'battery265.jpg', 'battery283.jpg', 'battery524.jpg', 'battery52.jpg', 'battery482.jpg', 'battery42.jpg', 'battery145.jpg', 'battery410.jpg', 'battery2.jpg', 'battery593.jpg', 'battery244.jpg', 'battery146.jpg', 'battery250.jpg', 'battery150.jpg', 'battery540.jpg', 'battery462.jpg', 'battery365.jpg', 'battery163.jpg', 'battery35.jpg', 'battery230.jpg', 'battery295.jpg', 'battery275.jpg', 'battery480.jpg', 'battery398.jpg', 'battery280.jpg', 'battery442.jpg', 'battery49.jpg', 'battery14.jpg', 'battery522.jpg', 'battery138.jpg', 'battery399.jpg', 'battery587.jpg', 'battery457.jpg', 'battery509.jpg', 'battery492.jpg', 'battery107.jpg', 'battery359.jpg', 'battery459.jpg', 'battery450.jpg', 'battery121.jpg', 'battery520.jpg', 'battery434.jpg', 'battery58.jpg', 'battery332.jpg', 'battery54.jpg', 'battery194.jpg', 'battery185.jpg', 'battery227.jpg', 'battery238.jpg', 'battery510.jpg', 'battery10.jpg', 'battery507.jpg', 'battery521.jpg', 'battery469.jpg', 'battery166.jpg', 'battery201.jpg', 'battery245.jpg', 'battery61.jpg', 'battery30.jpg', 'battery346.jpg', 'battery504.jpg', 'battery232.jpg', 'battery179.jpg', 'battery53.jpg', 'battery47.jpg', 'battery343.jpg', 'battery523.jpg', 'battery570.jpg', 'battery191.jpg', 'battery546.jpg', 'battery371.jpg', 'battery24.jpg', 'battery614.jpg', 'battery174.jpg', 'battery258.jpg', 'battery168.jpg', 'battery43.jpg', 'battery259.jpg', 'battery211.jpg', 'battery529.jpg', 'battery375.jpg', 'battery186.jpg', 'battery470.jpg', 'battery171.jpg', 'battery32.jpg', 'battery403.jpg', 'battery401.jpg', 'battery169.jpg', 'battery188.jpg', 'battery606.jpg', 'battery472.jpg', 'battery424.jpg', 'battery600.jpg', 'battery430.jpg', 'battery373.jpg', 'battery304.jpg', 'battery144.jpg', 'battery560.jpg', 'battery216.jpg', 'battery516.jpg', 'battery199.jpg', 'battery247.jpg', 'battery120.jpg', 'battery19.jpg', 'battery476.jpg', 'battery289.jpg', 'battery25.jpg', 'battery219.jpg', 'battery438.jpg', 'battery440.jpg', 'battery458.jpg', 'battery573.jpg', 'battery292.jpg', 'battery384.jpg', 'battery128.jpg', 'battery249.jpg', 'battery312.jpg', 'battery379.jpg', 'battery210.jpg', 'battery162.jpg', 'battery568.jpg', 'battery40.jpg', 'battery473.jpg', 'battery56.jpg', 'battery453.jpg', 'battery184.jpg', 'battery264.jpg', 'battery298.jpg', 'battery234.jpg', 'battery549.jpg', 'battery325.jpg', 'battery360.jpg', 'battery565.jpg', 'battery551.jpg', 'battery432.jpg', 'battery581.jpg', 'battery599.jpg', 'battery517.jpg', 'battery574.jpg', 'battery436.jpg', 'battery39.jpg', 'battery464.jpg', 'battery223.jpg', 'battery136.jpg', 'battery284.jpg', 'battery501.jpg', 'battery241.jpg', 'battery167.jpg', 'battery307.jpg', 'battery6.jpg', 'battery293.jpg', 'battery495.jpg', 'battery142.jpg', 'battery491.jpg', 'battery390.jpg', 'battery471.jpg', 'battery592.jpg', 'battery444.jpg', 'battery571.jpg', 'battery575.jpg', 'battery369.jpg', 'battery381.jpg', 'battery253.jpg', 'battery134.jpg', 'battery255.jpg', 'battery333.jpg', 'battery533.jpg', 'battery311.jpg', 'battery207.jpg', 'battery301.jpg', 'battery550.jpg', 'battery391.jpg', 'battery494.jpg', 'battery269.jpg', 'battery414.jpg', 'battery306.jpg', 'battery590.jpg', 'battery513.jpg', 'battery417.jpg', 'battery285.jpg', 'battery583.jpg', 'battery380.jpg', 'battery605.jpg', 'battery596.jpg', 'battery28.jpg', 'battery402.jpg', 'battery578.jpg', 'battery59.jpg', 'battery372.jpg', 'battery531.jpg', 'battery392.jpg', 'battery443.jpg', 'battery126.jpg', 'battery308.jpg', 'battery321.jpg', 'battery140.jpg', 'battery534.jpg', 'battery119.jpg', 'battery382.jpg', 'battery198.jpg', 'battery231.jpg', 'battery192.jpg', 'battery409.jpg', 'battery544.jpg', 'battery60.jpg', 'battery397.jpg', 'battery222.jpg', 'battery158.jpg', 'battery20.jpg', 'battery519.jpg', 'battery106.jpg', 'battery357.jpg', 'battery601.jpg', 'battery270.jpg', 'battery246.jpg', 'battery493.jpg', 'battery200.jpg', 'battery538.jpg', 'battery505.jpg', 'battery220.jpg', 'battery515.jpg', 'battery229.jpg', 'battery352.jpg', 'battery595.jpg', 'battery543.jpg', 'battery364.jpg', 'battery38.jpg', 'battery117.jpg', 'battery487.jpg', 'battery123.jpg', 'battery613.jpg', 'battery44.jpg', 'battery133.jpg', 'battery536.jpg', 'battery262.jpg', 'battery34.jpg', 'battery224.jpg', 'battery183.jpg', 'battery13.jpg', 'battery235.jpg', 'battery276.jpg', 'battery484.jpg', 'battery36.jpg', 'battery279.jpg', 'battery561.jpg', 'battery385.jpg', 'battery324.jpg', 'battery479.jpg', 'battery612.jpg', 'battery197.jpg', 'battery556.jpg', 'battery242.jpg', 'battery363.jpg', 'battery489.jpg', 'battery348.jpg', 'battery45.jpg', 'battery257.jpg', 'battery463.jpg', 'battery15.jpg', 'battery204.jpg', 'battery313.jpg', 'battery569.jpg', 'battery274.jpg', 'battery50.jpg', 'battery109.jpg', 'battery112.jpg', 'battery124.jpg', 'battery108.jpg', 'battery177.jpg', 'battery451.jpg', 'battery243.jpg', 'battery260.jpg', 'battery233.jpg', 'battery340.jpg', 'battery441.jpg', 'battery310.jpg', 'battery350.jpg', 'battery218.jpg', 'battery225.jpg', 'battery425.jpg', 'battery103.jpg', 'battery435.jpg', 'battery580.jpg', 'battery27.jpg', 'battery338.jpg', 'battery558.jpg', 'battery378.jpg', 'battery335.jpg', 'battery23.jpg', 'battery500.jpg', 'battery584.jpg', 'battery226.jpg', 'battery557.jpg', 'battery393.jpg', 'battery449.jpg', 'battery537.jpg', 'battery541.jpg', 'battery428.jpg', 'battery239.jpg', 'battery296.jpg', 'battery165.jpg', 'battery389.jpg', 'battery176.jpg', 'battery118.jpg', 'battery141.jpg', 'battery545.jpg', 'battery342.jpg', 'battery153.jpg', 'battery132.jpg', 'battery512.jpg', 'battery608.jpg', 'battery48.jpg', 'battery125.jpg', 'battery164.jpg', 'battery299.jpg', 'battery431.jpg']\n",
            "['battery429.jpg', 'battery178.jpg', 'battery527.jpg', 'battery485.jpg', 'battery254.jpg', 'battery426.jpg', 'battery189.jpg', 'battery256.jpg', 'battery526.jpg', 'battery208.jpg', 'battery586.jpg', 'battery454.jpg', 'battery202.jpg', 'battery604.jpg', 'battery282.jpg', 'battery291.jpg', 'battery137.jpg', 'battery217.jpg', 'battery154.jpg', 'battery302.jpg', 'battery591.jpg', 'battery488.jpg', 'battery161.jpg', 'battery328.jpg', 'battery22.jpg', 'battery326.jpg', 'battery508.jpg', 'battery318.jpg', 'battery361.jpg', 'battery547.jpg', 'battery251.jpg', 'battery170.jpg', 'battery535.jpg', 'battery405.jpg', 'battery314.jpg', 'battery483.jpg', 'battery362.jpg', 'battery585.jpg', 'battery341.jpg', 'battery300.jpg', 'battery252.jpg', 'battery498.jpg', 'battery394.jpg', 'battery196.jpg', 'battery404.jpg', 'battery272.jpg', 'battery149.jpg', 'battery413.jpg', 'battery518.jpg', 'battery228.jpg', 'battery421.jpg', 'battery267.jpg', 'battery499.jpg', 'battery290.jpg', 'battery1.jpg', 'battery396.jpg', 'battery317.jpg', 'battery423.jpg']\n"
          ]
        }
      ],
      "source": [
        "from sklearn.model_selection import train_test_split\n",
        "import cv2\n",
        "import os\n",
        "train,leftover = train_test_split(os.listdir('/content/drive/MyDrive/12 groups garbage classification data - cleaned/garbage_classification/'+'battery'),train_size = 0.8)\n",
        "test,valid = train_test_split(leftover,test_size = 0.5)\n",
        "print(test)\n",
        "print(train)\n",
        "print(valid)\n",
        "for b in train:\n",
        "  os.chdir('/content/drive/MyDrive/12 groups garbage classification data - cleaned/garbage_classification/train/battery')\n",
        "  cv2.imwrite('train - '+b,cv2.imread('/content/drive/MyDrive/12 groups garbage classification data - cleaned/garbage_classification/battery/'+b))\n",
        "for b in test:\n",
        "  os.chdir('/content/drive/MyDrive/12 groups garbage classification data - cleaned/garbage_classification/test/battery')\n",
        "  cv2.imwrite('test - '+b,cv2.imread('/content/drive/MyDrive/12 groups garbage classification data - cleaned/garbage_classification/battery/'+b))\n",
        "for b in valid:\n",
        "  os.chdir('/content/drive/MyDrive/12 groups garbage classification data - cleaned/garbage_classification/valid/battery')\n",
        "  cv2.imwrite('valid - '+b,cv2.imread('/content/drive/MyDrive/12 groups garbage classification data - cleaned/garbage_classification/battery/'+b))"
      ]
    },
    {
      "cell_type": "code",
      "execution_count": null,
      "metadata": {
        "colab": {
          "base_uri": "https://localhost:8080/",
          "height": 244
        },
        "id": "1DTwk2iq-6B0",
        "outputId": "ecc62015-1fde-4ad2-b6dd-20985a8bd427"
      },
      "outputs": [
        {
          "ename": "FileExistsError",
          "evalue": "ignored",
          "output_type": "error",
          "traceback": [
            "\u001b[0;31m---------------------------------------------------------------------------\u001b[0m",
            "\u001b[0;31mFileExistsError\u001b[0m                           Traceback (most recent call last)",
            "\u001b[0;32m<ipython-input-2-3498b23440c2>\u001b[0m in \u001b[0;36m<cell line: 3>\u001b[0;34m()\u001b[0m\n\u001b[1;32m      3\u001b[0m \u001b[0;32mfor\u001b[0m \u001b[0mb\u001b[0m \u001b[0;32min\u001b[0m \u001b[0;34m[\u001b[0m\u001b[0;34m'test'\u001b[0m\u001b[0;34m,\u001b[0m\u001b[0;34m'train'\u001b[0m\u001b[0;34m,\u001b[0m\u001b[0;34m'valid'\u001b[0m\u001b[0;34m]\u001b[0m\u001b[0;34m:\u001b[0m\u001b[0;34m\u001b[0m\u001b[0;34m\u001b[0m\u001b[0m\n\u001b[1;32m      4\u001b[0m   \u001b[0mos\u001b[0m\u001b[0;34m.\u001b[0m\u001b[0mchdir\u001b[0m\u001b[0;34m(\u001b[0m\u001b[0;34m'/content/drive/MyDrive/12 groups garbage classification data - cleaned/garbage_classification'\u001b[0m\u001b[0;34m)\u001b[0m\u001b[0;34m\u001b[0m\u001b[0;34m\u001b[0m\u001b[0m\n\u001b[0;32m----> 5\u001b[0;31m   \u001b[0mos\u001b[0m\u001b[0;34m.\u001b[0m\u001b[0mmkdir\u001b[0m\u001b[0;34m(\u001b[0m\u001b[0mb\u001b[0m\u001b[0;34m)\u001b[0m\u001b[0;34m\u001b[0m\u001b[0;34m\u001b[0m\u001b[0m\n\u001b[0m\u001b[1;32m      6\u001b[0m   \u001b[0mos\u001b[0m\u001b[0;34m.\u001b[0m\u001b[0mchdir\u001b[0m\u001b[0;34m(\u001b[0m\u001b[0;34m'/content/drive/MyDrive/12 groups garbage classification data - cleaned/garbage_classification/'\u001b[0m\u001b[0;34m+\u001b[0m\u001b[0mb\u001b[0m\u001b[0;34m)\u001b[0m\u001b[0;34m\u001b[0m\u001b[0;34m\u001b[0m\u001b[0m\n\u001b[1;32m      7\u001b[0m   \u001b[0;32mfor\u001b[0m \u001b[0ma\u001b[0m \u001b[0;32min\u001b[0m \u001b[0mclasses\u001b[0m\u001b[0;34m:\u001b[0m\u001b[0;34m\u001b[0m\u001b[0;34m\u001b[0m\u001b[0m\n",
            "\u001b[0;31mFileExistsError\u001b[0m: [Errno 17] File exists: 'test'"
          ]
        }
      ],
      "source": [
        "classes = ['battery','biological','brown-glass','cardboard','clothes','green-glass','metal','paper','plastic','sanitary waste and toothbrushes','shoes','white-glass']\n",
        "\n",
        "for b in ['test','train','valid']:\n",
        "  os.chdir('/content/drive/MyDrive/12 groups garbage classification data - cleaned/garbage_classification')\n",
        "  os.mkdir(b)\n",
        "  os.chdir('/content/drive/MyDrive/12 groups garbage classification data - cleaned/garbage_classification/'+b)\n",
        "  for a in classes:\n",
        "    os.mkdir(a)"
      ]
    },
    {
      "cell_type": "code",
      "execution_count": null,
      "metadata": {
        "colab": {
          "base_uri": "https://localhost:8080/"
        },
        "id": "Mep6bWhPBUh1",
        "outputId": "ae5a56bb-4244-491e-9827-884b9c914d5f"
      },
      "outputs": [
        {
          "name": "stdout",
          "output_type": "stream",
          "text": [
            "Drive already mounted at /content/drive; to attempt to forcibly remount, call drive.mount(\"/content/drive\", force_remount=True).\n"
          ]
        }
      ],
      "source": [
        "from google.colab import drive\n",
        "import os\n",
        "drive.mount(\"/content/drive\")"
      ]
    },
    {
      "cell_type": "code",
      "execution_count": null,
      "metadata": {
        "id": "G4SMwEmbGBPs"
      },
      "outputs": [],
      "source": [
        "\n",
        "for c in os.listdir('/content/drive/MyDrive/12 groups garbage classification data - cleaned/garbage_classification/valid/green-glass'):\n",
        "  os.chdir('/content/drive/MyDrive/12 groups garbage classification data - cleaned/garbage_classification/valid/glass')\n",
        "  cv2.imwrite(c,cv2.imread('/content/drive/MyDrive/12 groups garbage classification data - cleaned/garbage_classification/valid/green-glass/'+c))\n",
        "\n"
      ]
    },
    {
      "cell_type": "code",
      "execution_count": null,
      "metadata": {
        "colab": {
          "base_uri": "https://localhost:8080/"
        },
        "id": "gqHtk_sKM7R7",
        "outputId": "4373f20f-82fc-49ce-ab84-a4ac776affc0"
      },
      "outputs": [
        {
          "name": "stdout",
          "output_type": "stream",
          "text": [
            "1608 1608\n"
          ]
        }
      ],
      "source": [
        "print(len(os.listdir('/content/drive/MyDrive/12 groups garbage classification data - cleaned/garbage_classification/train/glass')),\n",
        "      len(os.listdir('/content/drive/MyDrive/12 groups garbage classification data - cleaned/garbage_classification/train/green-glass'))+\n",
        "      len(os.listdir('/content/drive/MyDrive/12 groups garbage classification data - cleaned/garbage_classification/train/white-glass'))+\n",
        "      len(os.listdir('/content/drive/MyDrive/12 groups garbage classification data - cleaned/garbage_classification/train/brown-glass')))"
      ]
    },
    {
      "cell_type": "code",
      "execution_count": null,
      "metadata": {
        "colab": {
          "base_uri": "https://localhost:8080/",
          "height": 244
        },
        "id": "u42zUrjrJgd2",
        "outputId": "52a89f75-9d95-4ca2-904c-acbc609274c9"
      },
      "outputs": [
        {
          "ename": "IsADirectoryError",
          "evalue": "ignored",
          "output_type": "error",
          "traceback": [
            "\u001b[0;31m---------------------------------------------------------------------------\u001b[0m",
            "\u001b[0;31mIsADirectoryError\u001b[0m                         Traceback (most recent call last)",
            "\u001b[0;32m<ipython-input-13-e11b97bccbcc>\u001b[0m in \u001b[0;36m<cell line: 2>\u001b[0;34m()\u001b[0m\n\u001b[1;32m      1\u001b[0m \u001b[0;32mimport\u001b[0m \u001b[0mcv2\u001b[0m\u001b[0;34m\u001b[0m\u001b[0;34m\u001b[0m\u001b[0m\n\u001b[1;32m      2\u001b[0m \u001b[0;32mfor\u001b[0m \u001b[0ma\u001b[0m \u001b[0;32min\u001b[0m \u001b[0;34m[\u001b[0m\u001b[0;34m'test'\u001b[0m\u001b[0;34m,\u001b[0m\u001b[0;34m'train'\u001b[0m\u001b[0;34m,\u001b[0m\u001b[0;34m'valid'\u001b[0m\u001b[0;34m]\u001b[0m\u001b[0;34m:\u001b[0m\u001b[0;34m\u001b[0m\u001b[0;34m\u001b[0m\u001b[0m\n\u001b[0;32m----> 3\u001b[0;31m   \u001b[0mos\u001b[0m\u001b[0;34m.\u001b[0m\u001b[0mremove\u001b[0m\u001b[0;34m(\u001b[0m\u001b[0;34m'/content/drive/MyDrive/12 groups garbage classification data - cleaned/garbage_classification/'\u001b[0m\u001b[0;34m+\u001b[0m\u001b[0ma\u001b[0m\u001b[0;34m+\u001b[0m\u001b[0;34m'/brown-glass'\u001b[0m\u001b[0;34m)\u001b[0m\u001b[0;34m\u001b[0m\u001b[0;34m\u001b[0m\u001b[0m\n\u001b[0m\u001b[1;32m      4\u001b[0m   \u001b[0mos\u001b[0m\u001b[0;34m.\u001b[0m\u001b[0mremove\u001b[0m\u001b[0;34m(\u001b[0m\u001b[0;34m'/content/drive/MyDrive/12 groups garbage classification data - cleaned/garbage_classification/'\u001b[0m\u001b[0;34m+\u001b[0m\u001b[0ma\u001b[0m\u001b[0;34m+\u001b[0m\u001b[0;34m'/green-glass'\u001b[0m\u001b[0;34m)\u001b[0m\u001b[0;34m\u001b[0m\u001b[0;34m\u001b[0m\u001b[0m\n\u001b[1;32m      5\u001b[0m   \u001b[0mos\u001b[0m\u001b[0;34m.\u001b[0m\u001b[0mremove\u001b[0m\u001b[0;34m(\u001b[0m\u001b[0;34m'/content/drive/MyDrive/12 groups garbage classification data - cleaned/garbage_classification/'\u001b[0m\u001b[0;34m+\u001b[0m\u001b[0ma\u001b[0m\u001b[0;34m+\u001b[0m\u001b[0;34m'/white-glass'\u001b[0m\u001b[0;34m)\u001b[0m\u001b[0;34m\u001b[0m\u001b[0;34m\u001b[0m\u001b[0m\n",
            "\u001b[0;31mIsADirectoryError\u001b[0m: [Errno 21] Is a directory: '/content/drive/MyDrive/12 groups garbage classification data - cleaned/garbage_classification/test/brown-glass'"
          ]
        }
      ],
      "source": [
        "import cv2\n",
        "for a in ['test','train','valid']:\n",
        "  os.rmdir('/content/drive/MyDrive/12 groups garbage classification data - cleaned/garbage_classification/'+a+'/brown-glass')\n",
        "  os.rmdir('/content/drive/MyDrive/12 groups garbage classification data - cleaned/garbage_classification/'+a+'/green-glass')\n",
        "  os.rmdir('/content/drive/MyDrive/12 groups garbage classification data - cleaned/garbage_classification/'+a+'/white-glass')"
      ]
    }
  ],
  "metadata": {
    "colab": {
      "provenance": [],
      "mount_file_id": "16_j9gOYXs0fUywHKs_tM__eWFz2en8Wc",
      "authorship_tag": "ABX9TyMc74bV1HzBWyY05M0iKxQ3",
      "include_colab_link": true
    },
    "kernelspec": {
      "display_name": "Python 3",
      "name": "python3"
    },
    "language_info": {
      "name": "python"
    }
  },
  "nbformat": 4,
  "nbformat_minor": 0
}